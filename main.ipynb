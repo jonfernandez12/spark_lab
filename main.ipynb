{
 "cells": [
  {
   "cell_type": "code",
   "execution_count": 1,
   "id": "b39b038b-78e0-4607-b53a-c94943b60dc5",
   "metadata": {},
   "outputs": [],
   "source": [
    "from pyspark.sql import SparkSession\n",
    "from pyspark.sql.functions import col, when, avg"
   ]
  },
  {
   "cell_type": "markdown",
   "id": "63f46004-b8ef-47ea-b3e1-5d5bcac3ac5e",
   "metadata": {},
   "source": [
    "Tutorial by https://spark.apache.org/examples.html"
   ]
  },
  {
   "cell_type": "markdown",
   "id": "2e8788b6-9830-4a29-ac8d-c4aeaa8328c5",
   "metadata": {},
   "source": [
    "# Spark DataFrame example"
   ]
  },
  {
   "cell_type": "code",
   "execution_count": 13,
   "id": "99116510-1dba-46e8-8d7c-3d105e4c0dc7",
   "metadata": {},
   "outputs": [
    {
     "name": "stdout",
     "output_type": "stream",
     "text": [
      "+----------+---+\n",
      "|first_name|age|\n",
      "+----------+---+\n",
      "|       sue| 32|\n",
      "|        li|  3|\n",
      "|       bob| 75|\n",
      "|       heo| 13|\n",
      "+----------+---+\n",
      "\n"
     ]
    }
   ],
   "source": [
    "spark = SparkSession.builder.appName(\"demo\").getOrCreate()\n",
    "df = spark.createDataFrame(\n",
    "    [\n",
    "        (\"sue\", 32),\n",
    "        (\"li\", 3),\n",
    "        (\"bob\", 75),\n",
    "        (\"heo\", 13),\n",
    "    ],\n",
    "    [\"first_name\", \"age\"],\n",
    ")\n",
    "df.show()"
   ]
  },
  {
   "cell_type": "code",
   "execution_count": 16,
   "id": "c5ba19d3-d100-4ace-8d6d-8f41e8f58b8e",
   "metadata": {},
   "outputs": [
    {
     "name": "stdout",
     "output_type": "stream",
     "text": [
      "+----------+---+----------+\n",
      "|first_name|age|life_stage|\n",
      "+----------+---+----------+\n",
      "|       sue| 32|     adult|\n",
      "|        li|  3|     child|\n",
      "|       bob| 75|     adult|\n",
      "|       heo| 13|  teenager|\n",
      "+----------+---+----------+\n",
      "\n"
     ]
    }
   ],
   "source": [
    "# Create life_stage column\n",
    "df1 = df.withColumn(\n",
    "    \"life_stage\",\n",
    "    when(col(\"age\") < 13, \"child\")\n",
    "    .when(col(\"age\").between(13, 19), \"teenager\")\n",
    "    .otherwise(\"adult\"),\n",
    ")\n",
    "df1.show()"
   ]
  },
  {
   "cell_type": "code",
   "execution_count": 17,
   "id": "10ff9b0b-c16f-477c-b5d1-e66d991172db",
   "metadata": {},
   "outputs": [
    {
     "name": "stdout",
     "output_type": "stream",
     "text": [
      "+----------+---+----------+\n",
      "|first_name|age|life_stage|\n",
      "+----------+---+----------+\n",
      "|       sue| 32|     adult|\n",
      "|       bob| 75|     adult|\n",
      "|       heo| 13|  teenager|\n",
      "+----------+---+----------+\n",
      "\n"
     ]
    }
   ],
   "source": [
    "# Filter by life_stage column\n",
    "df1.where(col(\"life_stage\").isin([\"teenager\", \"adult\"])).show()\n"
   ]
  },
  {
   "cell_type": "code",
   "execution_count": 19,
   "id": "c38836bf-d106-454b-a879-955f2b39a3b5",
   "metadata": {},
   "outputs": [
    {
     "name": "stdout",
     "output_type": "stream",
     "text": [
      "+--------+\n",
      "|avg(age)|\n",
      "+--------+\n",
      "|   30.75|\n",
      "+--------+\n",
      "\n"
     ]
    }
   ],
   "source": [
    "# Show average age\n",
    "df1.select(avg(\"age\")).show()\n",
    "# spark.sql(\"select avg(age) from {df1}\", df1=df1).show()"
   ]
  },
  {
   "cell_type": "code",
   "execution_count": 20,
   "id": "14cf5f3a-118a-43cd-a86a-40dbbafaa809",
   "metadata": {},
   "outputs": [
    {
     "name": "stdout",
     "output_type": "stream",
     "text": [
      "+----------+--------+\n",
      "|life_stage|avg(age)|\n",
      "+----------+--------+\n",
      "|     adult|    53.5|\n",
      "|     child|     3.0|\n",
      "|  teenager|    13.0|\n",
      "+----------+--------+\n",
      "\n"
     ]
    }
   ],
   "source": [
    "# Show average age grouped by life_stage\n",
    "df1.groupBy(\"life_stage\").avg().show()\n",
    "# spark.sql(\"select life_stage, avg(age) from {df1} group by life_stage\", df1=df1).show()"
   ]
  },
  {
   "cell_type": "code",
   "execution_count": null,
   "id": "8355b9ff-82bd-4d1d-b506-c91315399abc",
   "metadata": {},
   "outputs": [
    {
     "name": "stdout",
     "output_type": "stream",
     "text": [
      "+----------+---+----------+\n",
      "|first_name|age|life_stage|\n",
      "+----------+---+----------+\n",
      "|       heo| 13|  teenager|\n",
      "|       bob| 75|     adult|\n",
      "|       sue| 32|     adult|\n",
      "|        li|  3|     child|\n",
      "+----------+---+----------+\n",
      "\n",
      "+----------+---+----------+\n",
      "|first_name|age|life_stage|\n",
      "+----------+---+----------+\n",
      "|       heo| 13|  teenager|\n",
      "+----------+---+----------+\n",
      "\n"
     ]
    }
   ],
   "source": [
    "# Save df1 as some_people table\n",
    "# Mode types:\n",
    "    # append: Append contents of this DataFrame to existing data.\n",
    "    # overwrite: Overwrite existing data.\n",
    "    # error or errorifexists: Throw an exception if data already exists.\n",
    "    # ignore: Silently ignore this operation if data already exists.\n",
    "df1.write.mode(\"overwrite\").saveAsTable(\"some_people\")\n",
    "# spark.sql(\"select * from some_people\").show()\n",
    "\n",
    "spark.sql(\"select * from some_people\").show()\n",
    "\n",
    "spark.sql(\"INSERT INTO some_people VALUES ('frank', 4, 'child')\")\n",
    "spark.sql(\"select * from some_people where life_stage='teenager'\").show()"
   ]
  }
 ],
 "metadata": {
  "kernelspec": {
   "display_name": "Python 3 (ipykernel)",
   "language": "python",
   "name": "python3"
  },
  "language_info": {
   "codemirror_mode": {
    "name": "ipython",
    "version": 3
   },
   "file_extension": ".py",
   "mimetype": "text/x-python",
   "name": "python",
   "nbconvert_exporter": "python",
   "pygments_lexer": "ipython3",
   "version": "3.13.1"
  }
 },
 "nbformat": 4,
 "nbformat_minor": 5
}
